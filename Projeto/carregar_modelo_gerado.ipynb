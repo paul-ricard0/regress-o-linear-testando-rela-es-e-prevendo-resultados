{
 "cells": [
  {
   "cell_type": "code",
   "execution_count": 1,
   "metadata": {},
   "outputs": [],
   "source": [
    "import pickle"
   ]
  },
  {
   "cell_type": "code",
   "execution_count": 4,
   "metadata": {},
   "outputs": [],
   "source": [
    "path_modelo = '/home/paulo/Cursos/Alura/Data-Science/regressao-linear-testando-relacoes-e-prevendo-resultados/Projeto/modelo_consumo_cerveja'\n",
    "modelo_em_binario = open(path_modelo, 'rb')\n",
    "modelo = pickle.load(modelo_em_binario)\n",
    "modelo_em_binario.close()"
   ]
  },
  {
   "cell_type": "code",
   "execution_count": 5,
   "metadata": {},
   "outputs": [
    {
     "name": "stdout",
     "output_type": "stream",
     "text": [
      "26094.90 litros\n"
     ]
    },
    {
     "name": "stderr",
     "output_type": "stream",
     "text": [
      "/home/paulo/Cursos/Alura/Data-Science/regressao-linear-testando-relacoes-e-prevendo-resultados/env/lib/python3.10/site-packages/sklearn/base.py:465: UserWarning: X does not have valid feature names, but LinearRegression was fitted with feature names\n",
      "  warnings.warn(\n"
     ]
    }
   ],
   "source": [
    "temp_max = 30.5\n",
    "\n",
    "chuva = 12.2\n",
    "\n",
    "fds = 0\n",
    "\n",
    "entrada = [[temp_max, chuva, fds]]\n",
    "\n",
    "print(f'{modelo.predict(entrada)[0]:.2f} litros')"
   ]
  }
 ],
 "metadata": {
  "kernelspec": {
   "display_name": "env",
   "language": "python",
   "name": "python3"
  },
  "language_info": {
   "codemirror_mode": {
    "name": "ipython",
    "version": 3
   },
   "file_extension": ".py",
   "mimetype": "text/x-python",
   "name": "python",
   "nbconvert_exporter": "python",
   "pygments_lexer": "ipython3",
   "version": "3.10.12"
  }
 },
 "nbformat": 4,
 "nbformat_minor": 2
}
